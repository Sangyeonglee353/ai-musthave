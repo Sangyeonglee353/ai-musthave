{
  "nbformat": 4,
  "nbformat_minor": 0,
  "metadata": {
    "colab": {
      "provenance": [],
      "authorship_tag": "ABX9TyOBLHyHPE/dTwxM1/hQkSkf",
      "include_colab_link": true
    },
    "kernelspec": {
      "name": "python3",
      "display_name": "Python 3"
    },
    "language_info": {
      "name": "python"
    }
  },
  "cells": [
    {
      "cell_type": "markdown",
      "metadata": {
        "id": "view-in-github",
        "colab_type": "text"
      },
      "source": [
        "<a href=\"https://colab.research.google.com/github/Sangyeonglee353/ai-musthave/blob/main/Chapter_05_%EC%9C%A0%ED%96%89_%EB%94%B0%EB%9D%BC%EA%B0%80%EA%B8%B0_ResNet_%EB%A7%8C%EB%93%A4%EA%B8%B0.ipynb\" target=\"_parent\"><img src=\"https://colab.research.google.com/assets/colab-badge.svg\" alt=\"Open In Colab\"/></a>"
      ]
    },
    {
      "cell_type": "markdown",
      "source": [
        "# 5.3 기본 블록 정의하기"
      ],
      "metadata": {
        "id": "INPIhMy0inYi"
      }
    },
    {
      "cell_type": "code",
      "source": [
        "# ResNet 기본 블록\n",
        "import torch\n",
        "import torch.nn as nn\n",
        "\n",
        "class BasicBlock(nn.Module):\n",
        "  def __init__(self, in_channels, out_channels, kernel_size=3):\n",
        "    super(BasicBlock, self).__init()\n",
        "\n",
        "    # 1. 합성곱층 정의\n",
        "    self.c1 = nn.Conv2d(in_channels, out_channels, kernel_size=kernel_size, padding=1)\n",
        "    self.c2 = nn.Conv2d(out_channels, out_channels, kernel_size=kernel_size, padding=1)\n",
        "    self.downsample = nn.Conv2d(in_channles, out_channels, kernel_size=1)\n",
        "\n",
        "    # 2. 배치 정규화층 정의\n",
        "    self.bn1 = nn.BatchNorm2d(num_features=out_channels)\n",
        "    self.bn2 = nn.BatchNorm2d(num_features=out_channels)\n",
        "\n",
        "    self.relu = nn.ReLU()"
      ],
      "metadata": {
        "id": "UJnvN91hmPoM"
      },
      "execution_count": 1,
      "outputs": []
    },
    {
      "cell_type": "code",
      "source": [
        "# 기본 블록의 순전파 정의\n",
        "def forward(self, x):\n",
        "  # 3. 스킵 커넥션을 위해 초기 입력 저장\n",
        "  x_ = x\n",
        "\n",
        "  # ResNet 기본 블록에서 F(x) 부분\n",
        "  x = self.c1(x)\n",
        "  x = self.bn1(x)\n",
        "  x = self.relu(x)\n",
        "  x = self.c2(x)\n",
        "  x = self.bn2(x)\n",
        "\n",
        "  # 4. 합성곱층의 결과와 입력의 채널 수를 맞춤\n",
        "  x_ = self.downsample(x_)\n",
        "\n",
        "  # 5. 합성곱층의 결과와 저장해놨던 입력값을 더해줌(스킵 커넥션)\n",
        "  x += x_\n",
        "  x = self.relu(x)\n",
        "\n",
        "  return x"
      ],
      "metadata": {
        "id": "dUUE13zRoZOK"
      },
      "execution_count": 2,
      "outputs": []
    },
    {
      "cell_type": "markdown",
      "source": [
        "# 5.4 ResNet 모델 정의하기"
      ],
      "metadata": {
        "id": "daC5LD5oo1f0"
      }
    },
    {
      "cell_type": "code",
      "source": [
        "# ResNet 모델 정의하기\n",
        "class ResNet(nn.Module):\n",
        "  def __init__(self, num_classes=10):\n",
        "    super(Resnet, self).__init__()\n",
        "\n",
        "    # 1. 기본 블록\n",
        "    self.b1 = BasicBlock(in_channels=3, out_channels=64)\n",
        "    self.b2 = BasicBlock(in_channels=64, out_channels=128)\n",
        "    self.b3 = BasicBlock(in_channels=128, out_channels=256)\n",
        "\n",
        "    # 2. 풀링을 최댓값이 아닌 평균값으로\n",
        "    self.pool = nn.AvgPool2d(kernel_size=2, stride=2)\n",
        "\n",
        "    # 3. 분류기\n",
        "    self.fc1 = nn.Linear(in_features=4096, out_features=2048)\n",
        "    self.fc2 = nn.Linear(in_features=2048, out_features=512)\n",
        "    self.fc3 = nn.Linear(in_features=512, out_features=num_classes)\n",
        "\n",
        "    self.relu = nn.ReLU()"
      ],
      "metadata": {
        "id": "VZVnzqNWpD7B"
      },
      "execution_count": 3,
      "outputs": []
    },
    {
      "cell_type": "code",
      "source": [
        "# ResNet의 순전파 정의\n",
        "def forward(self, x):\n",
        "  # 1. 기본 블록과 풀링층 통과\n",
        "  x = self.b1(x)\n",
        "  x = self.pool(x)\n",
        "  x = self.b2(x)\n",
        "  x = self.pool(x)\n",
        "  x = self.b3(x)\n",
        "  x = self.pool(x)\n",
        "\n",
        "  # 2. 분류기의 입력으로 사용하기 위한 평탄화\n",
        "  x = torch.flatten(x, start_dim=1)\n",
        "\n",
        "  # 3. 분류기로 예측값 출력\n",
        "  x = self.fc1(x)\n",
        "  x = self.relu(x)\n",
        "  x = self.fc2(x)\n",
        "  x = self.relu(x)\n",
        "  x = self.fc3(x)\n",
        "\n",
        "  return x"
      ],
      "metadata": {
        "id": "MH5akx61p23Y"
      },
      "execution_count": 4,
      "outputs": []
    },
    {
      "cell_type": "markdown",
      "source": [
        "# 5.5 모델 학습하기"
      ],
      "metadata": {
        "id": "8K-eIjDDrdro"
      }
    },
    {
      "cell_type": "code",
      "source": [],
      "metadata": {
        "id": "LlgdHR_Lr4gR"
      },
      "execution_count": null,
      "outputs": []
    }
  ]
}